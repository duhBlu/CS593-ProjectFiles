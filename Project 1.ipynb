{
 "cells": [
  {
   "attachments": {},
   "cell_type": "markdown",
   "metadata": {},
   "source": [
    "# Project 1"
   ]
  },
  {
   "attachments": {},
   "cell_type": "markdown",
   "metadata": {},
   "source": [
    "## Part 1: Basic Pathfinding\n",
    "### Task choice 1: Depth-first Search"
   ]
  },
  {
   "attachments": {},
   "cell_type": "markdown",
   "metadata": {},
   "source": [
    "Represent the Maze: First, we need to represent the maze in a way that our program can understand. We will use a 2D array (or list of lists in Python), where each cell in the array corresponds to a cell in the maze. We will represent free spaces (where Pacman can move) as 0s, walls as 1s, the start position (Pacman's initial position) as 'P', and the goal (the dot) as '.'."
   ]
  },
  {
   "cell_type": "code",
   "execution_count": 62,
   "metadata": {},
   "outputs": [],
   "source": [
    "import os\n",
    "class Maze:\n",
    "    def __init__(self, maze):\n",
    "        # Initialize the Maze object with the given maze\n",
    "        self.maze = maze\n",
    "        self.start = None\n",
    "        self.goal = None\n",
    "        self.free_spaces = []\n",
    "        self.walls = []\n",
    "        self.visited = []\n",
    "        self.path = []\n",
    "        self.backtracked = []\n",
    "        self.directions = {}\n",
    "        \n",
    "        # Analyze the maze and find the start, goal, walls, and free spaces\n",
    "        for i in range(len(maze)):\n",
    "            for j in range(len(maze[i])):\n",
    "                if maze[i][j] == 'P':\n",
    "                    self.start = (i, j)\n",
    "                elif maze[i][j] == '.':\n",
    "                    self.goal = (i, j)\n",
    "                elif maze[i][j] == ' ':\n",
    "                    self.free_spaces.append((i, j))\n",
    "                elif maze[i][j] == '%':\n",
    "                    self.walls.append((i, j))\n",
    "\n",
    "    # Get the neighboring positions of a given position\n",
    "    def get_neighbors(self, position):\n",
    "        i, j = position\n",
    "        neighbors = [(i-1, j), (i+1, j), (i, j-1), (i, j+1)]\n",
    "        return [pos for pos in neighbors if self.maze[pos[0]][pos[1]] in ['P', '.', ' '] and pos not in self.visited]\n",
    "\n",
    "    def get_direction(self, pos1, pos2):\n",
    "        # Get the direction from pos1 to pos2\n",
    "        if pos2[0] > pos1[0]:\n",
    "            return \"↓\"\n",
    "        elif pos2[0] < pos1[0]:\n",
    "            return \"↑\"\n",
    "        elif pos2[1] > pos1[1]:\n",
    "            return \"→\"\n",
    "        elif pos2[1] < pos1[1]:\n",
    "            return \"←\"\n",
    "        else:\n",
    "            # If the positions are the same, return the direction of the last movement\n",
    "            return self.path[-1][1] if len(self.path) > 1 else None\n",
    "\n",
    "    \n",
    "\n",
    "    # =====================================================\n",
    "    # Depth First Search (recursive)\n",
    "    # \n",
    "    # Helper functions: get_direction, get_neighbors\n",
    "    # Author: Jacob Thieret\n",
    "    # Description: Perform depth-first search to find a path from the start to the goal\n",
    "    # ====================================================\n",
    "    def DepthFirstSearch(self, position):\n",
    "        self.visited.append(position)\n",
    "        if self.path:\n",
    "            direction = self.get_direction(self.path[-1], position)\n",
    "            self.directions[position] = direction\n",
    "        self.path.append(position)\n",
    "        if position == self.goal:\n",
    "            print(\"Goal found: \" + str(position))\n",
    "            return True\n",
    "        neighbors = self.get_neighbors(position)\n",
    "        for neighbor in neighbors:\n",
    "            if self.DepthFirstSearch(neighbor):\n",
    "                return True\n",
    "        self.path.pop()  # backtrack\n",
    "        self.backtracked.append(position)\n",
    "        return False\n",
    "    \n",
    "    # ===================================\n",
    "    # Output Functions\n",
    "    # ===================================\n",
    "\n",
    "    # basic output\n",
    "    # Write the maze with visited positions marked as dots to a file\n",
    "    def write_solution_dots(self, filename):\n",
    "        solution_maze = [list(row) for row in self.maze]\n",
    "        for i, j in self.visited:\n",
    "            if solution_maze[i][j] == ' ':\n",
    "                solution_maze[i][j] = '.'\n",
    "        directory = os.path.dirname(filename)\n",
    "        if directory:\n",
    "            os.makedirs(directory, exist_ok=True)\n",
    "        with open(filename, 'w') as file:\n",
    "            for row in solution_maze:\n",
    "                file.write(''.join(row) + '\\n')\n",
    "        \n",
    "    # Directional Output\n",
    "    # Write the solved maze with directional arrows and bidirectional symbols to a file\n",
    "    def write_solution(self, filename):\n",
    "        solution_maze = [list(row) for row in self.maze]\n",
    "        for position in self.visited:\n",
    "            direction = self.directions.get(position, '.')\n",
    "            if solution_maze[position[0]][position[1]] == ' ':\n",
    "                solution_maze[position[0]][position[1]] = direction\n",
    "        for position in self.backtracked:\n",
    "            if solution_maze[position[0]][position[1]] in ['→', '←']:\n",
    "                solution_maze[position[0]][position[1]] = '↔'\n",
    "            elif solution_maze[position[0]][position[1]] in ['↑', '↓']:\n",
    "                solution_maze[position[0]][position[1]] = '↕'\n",
    "        directory = os.path.dirname(filename)\n",
    "        if directory:\n",
    "            os.makedirs(directory, exist_ok=True)\n",
    "        with open(filename, 'w', encoding='utf-8') as file:\n",
    "            for row in solution_maze:\n",
    "                file.write(''.join(row) + '\\n')\n",
    "\n",
    "\n",
    "\n",
    "     # Print the number of steps taken and the path taken\n",
    "    def print_path(self, b):\n",
    "        print(f\"Number of steps taken: {len(self.path)}\")\n",
    "        if b is True:\n",
    "            print(\"Path taken:\")\n",
    "            for position, direction in self.path:\n",
    "                print(f\"Moved {direction} to {position}\")\n"
   ]
  },
  {
   "cell_type": "code",
   "execution_count": 63,
   "metadata": {},
   "outputs": [],
   "source": [
    "# function to read in the maze\n",
    "def read_maze_from_file(filename):\n",
    "    with open(filename, 'r') as file:\n",
    "        maze = [list(line.strip()) for line in file]\n",
    "    return maze\n",
    "\n",
    "\n",
    "smallMaze = read_maze_from_file('Maze/smallMaze.lay')\n",
    "mediumMaze = read_maze_from_file('Maze/mediumMaze.lay')\n",
    "bigMaze = read_maze_from_file('Maze/bigMaze.lay')\n",
    "openMaze = read_maze_from_file('Maze/openMaze.lay')\n",
    "\n",
    "smallMaze_obj = Maze(smallMaze)\n",
    "mediumMaze_obj = Maze(mediumMaze)\n",
    "bigMaze_obj = Maze(bigMaze)\n",
    "openMaze_obj = Maze(openMaze)\n",
    "\n"
   ]
  },
  {
   "cell_type": "code",
   "execution_count": 67,
   "metadata": {},
   "outputs": [
    {
     "name": "stdout",
     "output_type": "stream",
     "text": [
      "Number of steps taken: 30\n"
     ]
    }
   ],
   "source": [
    "smallMaze_obj.DepthFirstSearch(smallMaze_obj.start)\n",
    "smallMaze_obj.write_solution('Maze/solutions/smallMaze-solution.lay')\n",
    "smallMaze_obj.write_solution_dots('Maze/solutions/smallMaze-solution-dots.lay')\n",
    "smallMaze_obj.print_path(False)"
   ]
  },
  {
   "cell_type": "code",
   "execution_count": 68,
   "metadata": {},
   "outputs": [
    {
     "name": "stdout",
     "output_type": "stream",
     "text": [
      "Goal found: (16, 1)\n",
      "Number of steps taken: 165\n"
     ]
    }
   ],
   "source": [
    "mediumMaze_obj.DepthFirstSearch(mediumMaze_obj.start)\n",
    "mediumMaze_obj.write_solution('Maze/solutions/mediumMaze-solution.lay')\n",
    "mediumMaze_obj.write_solution_dots('Maze/solutions/mediumMaze-solution-dots.lay')\n",
    "mediumMaze_obj.print_path(False)"
   ]
  },
  {
   "cell_type": "code",
   "execution_count": 69,
   "metadata": {},
   "outputs": [
    {
     "name": "stdout",
     "output_type": "stream",
     "text": [
      "Goal found: (35, 1)\n",
      "Number of steps taken: 211\n"
     ]
    }
   ],
   "source": [
    "bigMaze_obj.DepthFirstSearch(bigMaze_obj.start)\n",
    "bigMaze_obj.write_solution('Maze/solutions/bigMaze-solution.lay')\n",
    "bigMaze_obj.write_solution_dots('Maze/solutions/bigMaze-solution-dots.lay')\n",
    "bigMaze_obj.print_path(False)"
   ]
  },
  {
   "cell_type": "code",
   "execution_count": 70,
   "metadata": {},
   "outputs": [
    {
     "name": "stdout",
     "output_type": "stream",
     "text": [
      "Goal found: (21, 1)\n",
      "Number of steps taken: 391\n"
     ]
    }
   ],
   "source": [
    "openMaze_obj.DepthFirstSearch(openMaze_obj.start)\n",
    "openMaze_obj.write_solution('Maze/solutions/openMaze-solution.lay')\n",
    "bigMaze_obj.write_solution_dots('Maze/solutions/bigMaze-solution-dots.lay')\n",
    "openMaze_obj.print_path(False)"
   ]
  }
 ],
 "metadata": {
  "kernelspec": {
   "display_name": "Python 3",
   "language": "python",
   "name": "python3"
  },
  "language_info": {
   "codemirror_mode": {
    "name": "ipython",
    "version": 3
   },
   "file_extension": ".py",
   "mimetype": "text/x-python",
   "name": "python",
   "nbconvert_exporter": "python",
   "pygments_lexer": "ipython3",
   "version": "3.10.11"
  },
  "orig_nbformat": 4
 },
 "nbformat": 4,
 "nbformat_minor": 2
}
