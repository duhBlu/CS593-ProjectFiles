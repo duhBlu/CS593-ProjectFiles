{
 "cells": [
  {
   "attachments": {},
   "cell_type": "markdown",
   "metadata": {},
   "source": [
    "# Project 1"
   ]
  },
  {
   "attachments": {},
   "cell_type": "markdown",
   "metadata": {},
   "source": [
    "## Part 1: Basic Pathfinding\n",
    "### Task choice 1: Depth-first Search"
   ]
  },
  {
   "attachments": {},
   "cell_type": "markdown",
   "metadata": {},
   "source": [
    "Represent the Maze: First, we need to represent the maze in a way that our program can understand. We will use a 2D array (or list of lists in Python), where each cell in the array corresponds to a cell in the maze. We will represent free spaces (where Pacman can move) as 0s, walls as 1s, the start position (Pacman's initial position) as 'P', and the goal (the dot) as '.'."
   ]
  },
  {
   "cell_type": "code",
   "execution_count": 36,
   "metadata": {},
   "outputs": [],
   "source": [
    "import os\n",
    "class Maze:\n",
    "    def __init__(self, maze):\n",
    "        self.maze = maze\n",
    "        self.start = None\n",
    "        self.goal = None\n",
    "        self.free_spaces = []\n",
    "        self.walls = []\n",
    "        self.visited = []\n",
    "        self.path = []\n",
    "        self.backtracked = []\n",
    "        self.directions = {}\n",
    "        \n",
    "        for i in range(len(maze)):\n",
    "            for j in range(len(maze[i])):\n",
    "                if maze[i][j] == 'P':\n",
    "                    self.start = (i, j)\n",
    "                elif maze[i][j] == '.':\n",
    "                    self.goal = (i, j)\n",
    "                elif maze[i][j] == ' ':\n",
    "                    self.free_spaces.append((i, j))\n",
    "                elif maze[i][j] == '%':\n",
    "                    self.walls.append((i, j))\n",
    "\n",
    "    def get_neighbors(self, position):\n",
    "        i, j = position\n",
    "        neighbors = [(i-1, j), (i+1, j), (i, j-1), (i, j+1)]\n",
    "        return [pos for pos in neighbors if self.maze[pos[0]][pos[1]] in ['P', '.', ' '] and pos not in self.visited]\n",
    "\n",
    "    def get_direction(self, pos1, pos2):\n",
    "        if pos2[0] > pos1[0]:\n",
    "            return \"↓\"\n",
    "        elif pos2[0] < pos1[0]:\n",
    "            return \"↑\"\n",
    "        elif pos2[1] > pos1[1]:\n",
    "            return \"→\"\n",
    "        elif pos2[1] < pos1[1]:\n",
    "            return \"←\"\n",
    "        else:\n",
    "            # If the positions are the same, return the direction of the last movement\n",
    "            return self.path[-1][1] if len(self.path) > 1 else None\n",
    "\n",
    "\n",
    "    def write_solution_dots(self, filename):\n",
    "        solution_maze = [list(row) for row in self.maze]\n",
    "        for i, j in self.visited:\n",
    "            if solution_maze[i][j] == ' ':\n",
    "                solution_maze[i][j] = '.'\n",
    "        directory = os.path.dirname(filename)\n",
    "        if directory:\n",
    "            os.makedirs(directory, exist_ok=True)\n",
    "        with open(filename, 'w') as file:\n",
    "            for row in solution_maze:\n",
    "                file.write(''.join(row) + '\\n')\n",
    "    \n",
    "    def DepthFirstSearch(self, position):\n",
    "        self.visited.append(position)\n",
    "        if self.path:\n",
    "            direction = self.get_direction(self.path[-1], position)\n",
    "            self.directions[position] = direction\n",
    "        self.path.append(position)\n",
    "        if position == self.goal:\n",
    "            print(\"Goal found: \" + str(position))\n",
    "            return True\n",
    "        neighbors = self.get_neighbors(position)\n",
    "        for neighbor in neighbors:\n",
    "            if self.DepthFirstSearch(neighbor):\n",
    "                return True\n",
    "        self.path.pop()  # backtrack\n",
    "        self.backtracked.append(position)\n",
    "        return False\n",
    "\n",
    "    def write_solution(self, filename):\n",
    "        solution_maze = [list(row) for row in self.maze]\n",
    "        for position in self.visited:\n",
    "            direction = self.directions.get(position, '.')\n",
    "            if solution_maze[position[0]][position[1]] == ' ':\n",
    "                solution_maze[position[0]][position[1]] = direction\n",
    "        for position in self.backtracked:\n",
    "            if solution_maze[position[0]][position[1]] in ['→', '←']:\n",
    "                solution_maze[position[0]][position[1]] = '↔'\n",
    "            elif solution_maze[position[0]][position[1]] in ['↑', '↓']:\n",
    "                solution_maze[position[0]][position[1]] = '↕'\n",
    "        directory = os.path.dirname(filename)\n",
    "        if directory:\n",
    "            os.makedirs(directory, exist_ok=True)\n",
    "        with open(filename, 'w', encoding='utf-8') as file:\n",
    "            for row in solution_maze:\n",
    "                file.write(''.join(row) + '\\n')\n",
    "\n",
    "\n",
    "\n",
    "\n",
    "    def print_path(self):\n",
    "        print(f\"Number of steps taken: {len(self.path)}\")\n",
    "        print(\"Path taken:\")\n",
    "        for position, direction in self.path:\n",
    "            print(f\"Moved {direction} to {position}\")\n"
   ]
  },
  {
   "cell_type": "code",
   "execution_count": 37,
   "metadata": {},
   "outputs": [],
   "source": [
    "# function to read in the maze\n",
    "def read_maze_from_file(filename):\n",
    "    with open(filename, 'r') as file:\n",
    "        maze = [list(line.strip()) for line in file]\n",
    "    return maze\n",
    "\n",
    "\n",
    "smallMaze = read_maze_from_file('smallMaze.lay')\n",
    "mediumMaze = read_maze_from_file('mediumMaze.lay')\n",
    "bigMaze = read_maze_from_file('bigMaze.lay')\n",
    "\n",
    "smallMaze_obj = Maze(smallMaze)\n",
    "mediumMaze_obj = Maze(mediumMaze)\n",
    "bigMaze_obj = Maze(bigMaze)\n",
    "\n"
   ]
  },
  {
   "cell_type": "code",
   "execution_count": 43,
   "metadata": {},
   "outputs": [],
   "source": [
    "smallMaze_obj.DepthFirstSearch(smallMaze_obj.start)\n",
    "smallMaze_obj.write_solution('solutions/smallMaze-solution.lay')\n",
    "#smallMaze_obj.write_solution_dots('solutions/smallMaze-solution-dots.lay')\n"
   ]
  },
  {
   "cell_type": "code",
   "execution_count": 44,
   "metadata": {},
   "outputs": [],
   "source": [
    "mediumMaze_obj.DepthFirstSearch(mediumMaze_obj.start)\n",
    "mediumMaze_obj.write_solution('solutions/mediumMaze-solution.lay')\n",
    "#mediumMaze_obj.write_solution_dots('solutions/mediumMaze-solution-dots.lay')\n"
   ]
  },
  {
   "cell_type": "code",
   "execution_count": 45,
   "metadata": {},
   "outputs": [],
   "source": [
    "bigMaze_obj.DepthFirstSearch(bigMaze_obj.start)\n",
    "bigMaze_obj.write_solution('solutions/bigMaze-solution.lay')\n",
    "#bigMaze_obj.write_solution_dots('solutions/bigMaze-solution-dots.lay')\n"
   ]
  }
 ],
 "metadata": {
  "kernelspec": {
   "display_name": "Python 3",
   "language": "python",
   "name": "python3"
  },
  "language_info": {
   "codemirror_mode": {
    "name": "ipython",
    "version": 3
   },
   "file_extension": ".py",
   "mimetype": "text/x-python",
   "name": "python",
   "nbconvert_exporter": "python",
   "pygments_lexer": "ipython3",
   "version": "3.10.11"
  },
  "orig_nbformat": 4
 },
 "nbformat": 4,
 "nbformat_minor": 2
}
